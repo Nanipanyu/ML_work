{
  "cells": [
    {
      "cell_type": "code",
      "execution_count": 1,
      "metadata": {
        "id": "JtZa996rCpF2"
      },
      "outputs": [],
      "source": [
        "import pandas as pd\n",
        "import numpy as np\n",
        "from sklearn.preprocessing import StandardScaler\n",
        "import matplotlib.pyplot as plt\n",
        "import tensorflow as tf\n",
        "from tensorflow import keras\n",
        "from tensorflow.keras import Sequential\n",
        "from tensorflow.keras.layers import Dense,Conv2D,Flatten,MaxPooling2D"
      ]
    },
    {
      "cell_type": "code",
      "execution_count": 2,
      "metadata": {
        "colab": {
          "base_uri": "https://localhost:8080/"
        },
        "id": "QLLhGAVhC3pL",
        "outputId": "0f74883b-bc5e-40a6-e876-c3ee45b13f25"
      },
      "outputs": [
        {
          "name": "stdout",
          "output_type": "stream",
          "text": [
            "Found 1500 files belonging to 3 classes.\n",
            "Found 300 files belonging to 3 classes.\n"
          ]
        }
      ],
      "source": [
        "train_ds = keras.utils.image_dataset_from_directory(\n",
        "    directory= './cifar-3class-data/train',\n",
        "    labels='inferred',\n",
        "    label_mode='int',\n",
        "    batch_size=32,\n",
        "    image_size=(32,32)\n",
        ")\n",
        "\n",
        "test_ds = keras.utils.image_dataset_from_directory(\n",
        "    directory= './cifar-3class-data/test',\n",
        "    labels='inferred',\n",
        "    label_mode='int',\n",
        "    batch_size=32,\n",
        "    image_size=(32,32)\n",
        ")"
      ]
    },
    {
      "cell_type": "code",
      "execution_count": 3,
      "metadata": {
        "id": "kWrhXvJgEqvH"
      },
      "outputs": [],
      "source": [
        "def process(image,label):\n",
        "    image = tf.cast(image/255 , tf.float32)\n",
        "    return image , label\n",
        "train_ds=train_ds.map(process)\n",
        "test_ds=test_ds.map(process)\n"
      ]
    },
    {
      "cell_type": "code",
      "execution_count": 4,
      "metadata": {
        "id": "Vc2WrlokFpnY"
      },
      "outputs": [],
      "source": [
        "model=Sequential()\n",
        "model.add(Conv2D(64,kernel_size=(3,3),padding='same',activation='relu',input_shape=(32,32,3)))\n",
        "model.add(Conv2D(64,kernel_size=(3,3),padding='same',activation='relu'))\n",
        "model.add(MaxPooling2D(pool_size=(2,2),padding='valid'))\n",
        "model.add(Conv2D(128,kernel_size=(3,3),padding='same',activation='relu'))\n",
        "model.add(Conv2D(128,kernel_size=(3,3),padding='same',activation='relu'))\n",
        "model.add(MaxPooling2D(pool_size=(2,2),padding='valid'))\n",
        "model.add(Flatten())\n",
        "\n",
        "model.add(Dense(512,activation='relu'))\n",
        "model.add(Dense(100,activation='relu'))\n",
        "model.add(Dense(3,activation='softmax'))"
      ]
    },
    {
      "cell_type": "code",
      "execution_count": 5,
      "metadata": {
        "colab": {
          "base_uri": "https://localhost:8080/"
        },
        "id": "M3q_2LRsLAVc",
        "outputId": "03f4f87a-4d07-442b-af53-24d14501214c"
      },
      "outputs": [
        {
          "name": "stdout",
          "output_type": "stream",
          "text": [
            "Model: \"sequential\"\n",
            "_________________________________________________________________\n",
            " Layer (type)                Output Shape              Param #   \n",
            "=================================================================\n",
            " conv2d (Conv2D)             (None, 32, 32, 64)        1792      \n",
            "                                                                 \n",
            " conv2d_1 (Conv2D)           (None, 32, 32, 64)        36928     \n",
            "                                                                 \n",
            " max_pooling2d (MaxPooling2  (None, 16, 16, 64)        0         \n",
            " D)                                                              \n",
            "                                                                 \n",
            " conv2d_2 (Conv2D)           (None, 16, 16, 128)       73856     \n",
            "                                                                 \n",
            " conv2d_3 (Conv2D)           (None, 16, 16, 128)       147584    \n",
            "                                                                 \n",
            " max_pooling2d_1 (MaxPoolin  (None, 8, 8, 128)         0         \n",
            " g2D)                                                            \n",
            "                                                                 \n",
            " flatten (Flatten)           (None, 8192)              0         \n",
            "                                                                 \n",
            " dense (Dense)               (None, 512)               4194816   \n",
            "                                                                 \n",
            " dense_1 (Dense)             (None, 100)               51300     \n",
            "                                                                 \n",
            " dense_2 (Dense)             (None, 3)                 303       \n",
            "                                                                 \n",
            "=================================================================\n",
            "Total params: 4506579 (17.19 MB)\n",
            "Trainable params: 4506579 (17.19 MB)\n",
            "Non-trainable params: 0 (0.00 Byte)\n",
            "_________________________________________________________________\n"
          ]
        }
      ],
      "source": [
        "model.summary()"
      ]
    },
    {
      "cell_type": "code",
      "execution_count": 6,
      "metadata": {
        "id": "6GWDRtteLBYN"
      },
      "outputs": [],
      "source": [
        "model.compile(optimizer='Adam',loss='sparse_categorical_crossentropy',metrics = ['accuracy'])"
      ]
    },
    {
      "cell_type": "code",
      "execution_count": 7,
      "metadata": {
        "colab": {
          "base_uri": "https://localhost:8080/",
          "height": 373
        },
        "id": "0MAveNxSL0FQ",
        "outputId": "94d3cde1-8bb0-4275-81f4-5d3978002809"
      },
      "outputs": [
        {
          "name": "stdout",
          "output_type": "stream",
          "text": [
            "Epoch 1/50\n"
          ]
        },
        {
          "name": "stdout",
          "output_type": "stream",
          "text": [
            "47/47 [==============================] - 16s 298ms/step - loss: 0.9847 - accuracy: 0.5067 - val_loss: 0.7940 - val_accuracy: 0.6933\n",
            "Epoch 2/50\n",
            "47/47 [==============================] - 15s 316ms/step - loss: 0.7342 - accuracy: 0.6953 - val_loss: 0.7967 - val_accuracy: 0.6800\n",
            "Epoch 3/50\n",
            "47/47 [==============================] - 15s 303ms/step - loss: 0.5752 - accuracy: 0.7680 - val_loss: 0.5660 - val_accuracy: 0.7733\n",
            "Epoch 4/50\n",
            "47/47 [==============================] - 15s 322ms/step - loss: 0.4980 - accuracy: 0.7847 - val_loss: 0.5549 - val_accuracy: 0.7700\n",
            "Epoch 5/50\n",
            "47/47 [==============================] - 14s 289ms/step - loss: 0.4278 - accuracy: 0.8173 - val_loss: 0.4935 - val_accuracy: 0.8100\n",
            "Epoch 6/50\n",
            "47/47 [==============================] - 15s 311ms/step - loss: 0.3474 - accuracy: 0.8513 - val_loss: 0.4901 - val_accuracy: 0.8200\n",
            "Epoch 7/50\n",
            "47/47 [==============================] - 13s 278ms/step - loss: 0.3089 - accuracy: 0.8760 - val_loss: 0.5146 - val_accuracy: 0.7967\n",
            "Epoch 8/50\n",
            "47/47 [==============================] - 13s 280ms/step - loss: 0.2647 - accuracy: 0.8947 - val_loss: 0.5706 - val_accuracy: 0.7900\n",
            "Epoch 9/50\n",
            "47/47 [==============================] - 15s 319ms/step - loss: 0.1980 - accuracy: 0.9253 - val_loss: 0.6344 - val_accuracy: 0.7933\n",
            "Epoch 10/50\n",
            "47/47 [==============================] - 14s 300ms/step - loss: 0.1471 - accuracy: 0.9500 - val_loss: 0.6686 - val_accuracy: 0.8167\n",
            "Epoch 11/50\n",
            "47/47 [==============================] - 15s 302ms/step - loss: 0.1042 - accuracy: 0.9593 - val_loss: 0.7979 - val_accuracy: 0.8000\n",
            "Epoch 12/50\n",
            "47/47 [==============================] - 15s 303ms/step - loss: 0.0603 - accuracy: 0.9820 - val_loss: 0.7543 - val_accuracy: 0.8200\n",
            "Epoch 13/50\n",
            "47/47 [==============================] - 17s 355ms/step - loss: 0.1205 - accuracy: 0.9560 - val_loss: 0.7203 - val_accuracy: 0.7867\n",
            "Epoch 14/50\n",
            "47/47 [==============================] - 15s 305ms/step - loss: 0.0741 - accuracy: 0.9707 - val_loss: 0.8004 - val_accuracy: 0.8100\n",
            "Epoch 15/50\n",
            "47/47 [==============================] - 16s 332ms/step - loss: 0.0385 - accuracy: 0.9860 - val_loss: 0.9783 - val_accuracy: 0.8233\n",
            "Epoch 16/50\n",
            "47/47 [==============================] - 15s 301ms/step - loss: 0.0506 - accuracy: 0.9813 - val_loss: 0.9591 - val_accuracy: 0.8200\n",
            "Epoch 17/50\n",
            "47/47 [==============================] - 14s 287ms/step - loss: 0.0337 - accuracy: 0.9893 - val_loss: 1.0412 - val_accuracy: 0.7967\n",
            "Epoch 18/50\n",
            "47/47 [==============================] - 14s 295ms/step - loss: 0.0158 - accuracy: 0.9953 - val_loss: 1.1787 - val_accuracy: 0.8133\n",
            "Epoch 19/50\n",
            "47/47 [==============================] - 14s 295ms/step - loss: 0.0142 - accuracy: 0.9940 - val_loss: 1.2536 - val_accuracy: 0.8000\n",
            "Epoch 20/50\n",
            "47/47 [==============================] - 14s 279ms/step - loss: 0.0064 - accuracy: 0.9987 - val_loss: 1.4232 - val_accuracy: 0.8000\n",
            "Epoch 21/50\n",
            "47/47 [==============================] - 14s 288ms/step - loss: 0.0170 - accuracy: 0.9933 - val_loss: 1.4661 - val_accuracy: 0.8167\n",
            "Epoch 22/50\n",
            "47/47 [==============================] - 14s 285ms/step - loss: 0.0650 - accuracy: 0.9780 - val_loss: 1.0709 - val_accuracy: 0.8133\n",
            "Epoch 23/50\n",
            "47/47 [==============================] - 14s 287ms/step - loss: 0.0532 - accuracy: 0.9827 - val_loss: 0.9373 - val_accuracy: 0.8200\n",
            "Epoch 24/50\n",
            "47/47 [==============================] - 13s 265ms/step - loss: 0.1007 - accuracy: 0.9640 - val_loss: 0.9723 - val_accuracy: 0.8367\n",
            "Epoch 25/50\n",
            "47/47 [==============================] - 13s 275ms/step - loss: 0.0423 - accuracy: 0.9853 - val_loss: 1.0491 - val_accuracy: 0.8333\n",
            "Epoch 26/50\n",
            "47/47 [==============================] - 12s 249ms/step - loss: 0.0141 - accuracy: 0.9947 - val_loss: 1.1749 - val_accuracy: 0.8167\n",
            "Epoch 27/50\n",
            "47/47 [==============================] - 13s 279ms/step - loss: 0.0028 - accuracy: 0.9987 - val_loss: 1.3543 - val_accuracy: 0.8200\n",
            "Epoch 28/50\n",
            "47/47 [==============================] - 14s 295ms/step - loss: 5.4946e-04 - accuracy: 1.0000 - val_loss: 1.3524 - val_accuracy: 0.8267\n",
            "Epoch 29/50\n",
            "47/47 [==============================] - 15s 308ms/step - loss: 2.3856e-04 - accuracy: 1.0000 - val_loss: 1.4002 - val_accuracy: 0.8233\n",
            "Epoch 30/50\n",
            "47/47 [==============================] - 15s 320ms/step - loss: 1.6681e-04 - accuracy: 1.0000 - val_loss: 1.4796 - val_accuracy: 0.8233\n",
            "Epoch 31/50\n",
            "47/47 [==============================] - 15s 302ms/step - loss: 1.2538e-04 - accuracy: 1.0000 - val_loss: 1.4805 - val_accuracy: 0.8333\n",
            "Epoch 32/50\n",
            "47/47 [==============================] - 12s 252ms/step - loss: 1.0860e-04 - accuracy: 1.0000 - val_loss: 1.5031 - val_accuracy: 0.8300\n",
            "Epoch 33/50\n",
            "47/47 [==============================] - 12s 252ms/step - loss: 8.9558e-05 - accuracy: 1.0000 - val_loss: 1.5482 - val_accuracy: 0.8300\n",
            "Epoch 34/50\n",
            "47/47 [==============================] - 12s 256ms/step - loss: 6.8040e-05 - accuracy: 1.0000 - val_loss: 1.6141 - val_accuracy: 0.8333\n",
            "Epoch 35/50\n",
            "47/47 [==============================] - 12s 260ms/step - loss: 5.1527e-05 - accuracy: 1.0000 - val_loss: 1.6680 - val_accuracy: 0.8333\n",
            "Epoch 36/50\n",
            "47/47 [==============================] - 14s 297ms/step - loss: 3.2706e-05 - accuracy: 1.0000 - val_loss: 1.7311 - val_accuracy: 0.8367\n",
            "Epoch 37/50\n",
            "47/47 [==============================] - 14s 295ms/step - loss: 2.1711e-05 - accuracy: 1.0000 - val_loss: 1.8142 - val_accuracy: 0.8433\n",
            "Epoch 38/50\n",
            "47/47 [==============================] - 12s 256ms/step - loss: 1.5159e-05 - accuracy: 1.0000 - val_loss: 1.8770 - val_accuracy: 0.8467\n",
            "Epoch 39/50\n",
            "47/47 [==============================] - 12s 257ms/step - loss: 9.8275e-06 - accuracy: 1.0000 - val_loss: 1.9180 - val_accuracy: 0.8400\n",
            "Epoch 40/50\n",
            "47/47 [==============================] - 12s 253ms/step - loss: 7.7545e-06 - accuracy: 1.0000 - val_loss: 1.9187 - val_accuracy: 0.8300\n",
            "Epoch 41/50\n",
            "47/47 [==============================] - 12s 250ms/step - loss: 6.8677e-06 - accuracy: 1.0000 - val_loss: 1.9528 - val_accuracy: 0.8367\n",
            "Epoch 42/50\n",
            "47/47 [==============================] - 12s 253ms/step - loss: 5.4957e-06 - accuracy: 1.0000 - val_loss: 1.9699 - val_accuracy: 0.8367\n",
            "Epoch 43/50\n",
            "47/47 [==============================] - 13s 261ms/step - loss: 4.7992e-06 - accuracy: 1.0000 - val_loss: 1.9864 - val_accuracy: 0.8367\n",
            "Epoch 44/50\n",
            "47/47 [==============================] - 12s 251ms/step - loss: 4.2697e-06 - accuracy: 1.0000 - val_loss: 2.0097 - val_accuracy: 0.8333\n",
            "Epoch 45/50\n",
            "47/47 [==============================] - 14s 283ms/step - loss: 4.0644e-06 - accuracy: 1.0000 - val_loss: 2.0253 - val_accuracy: 0.8400\n",
            "Epoch 46/50\n",
            "47/47 [==============================] - 13s 269ms/step - loss: 3.4267e-06 - accuracy: 1.0000 - val_loss: 2.0322 - val_accuracy: 0.8400\n",
            "Epoch 47/50\n",
            "47/47 [==============================] - 12s 247ms/step - loss: 3.1294e-06 - accuracy: 1.0000 - val_loss: 2.0493 - val_accuracy: 0.8400\n",
            "Epoch 48/50\n",
            "47/47 [==============================] - 12s 257ms/step - loss: 2.9019e-06 - accuracy: 1.0000 - val_loss: 2.0625 - val_accuracy: 0.8400\n",
            "Epoch 49/50\n",
            "47/47 [==============================] - 13s 265ms/step - loss: 2.5860e-06 - accuracy: 1.0000 - val_loss: 2.0780 - val_accuracy: 0.8400\n",
            "Epoch 50/50\n",
            "47/47 [==============================] - 14s 290ms/step - loss: 2.2794e-06 - accuracy: 1.0000 - val_loss: 2.0850 - val_accuracy: 0.8367\n"
          ]
        },
        {
          "data": {
            "text/plain": [
              "<keras.src.callbacks.History at 0x2903cf62650>"
            ]
          },
          "execution_count": 7,
          "metadata": {},
          "output_type": "execute_result"
        }
      ],
      "source": [
        "model.fit(train_ds,epochs=50,batch_size=200,validation_data=test_ds)"
      ]
    }
  ],
  "metadata": {
    "accelerator": "GPU",
    "colab": {
      "gpuType": "T4",
      "provenance": []
    },
    "kernelspec": {
      "display_name": "Python 3",
      "name": "python3"
    },
    "language_info": {
      "codemirror_mode": {
        "name": "ipython",
        "version": 3
      },
      "file_extension": ".py",
      "mimetype": "text/x-python",
      "name": "python",
      "nbconvert_exporter": "python",
      "pygments_lexer": "ipython3",
      "version": "3.11.4"
    }
  },
  "nbformat": 4,
  "nbformat_minor": 0
}
