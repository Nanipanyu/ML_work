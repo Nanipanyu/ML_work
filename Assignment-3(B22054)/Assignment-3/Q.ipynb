{
 "cells": [
  {
   "cell_type": "markdown",
   "metadata": {},
   "source": [
    "# (1)\n",
    "# PCA\n"
   ]
  },
  {
   "cell_type": "code",
   "execution_count": 1,
   "metadata": {},
   "outputs": [
    {
     "name": "stderr",
     "output_type": "stream",
     "text": [
      "\n",
      "[notice] A new release of pip is available: 23.3.1 -> 24.0\n",
      "[notice] To update, run: python.exe -m pip install --upgrade pip\n"
     ]
    },
    {
     "name": "stdout",
     "output_type": "stream",
     "text": [
      "Requirement already satisfied: prompt-toolkit in c:\\users\\nani panyu\\appdata\\local\\programs\\python\\python311\\lib\\site-packages (3.0.41)\n",
      "Requirement already satisfied: wcwidth in c:\\users\\nani panyu\\appdata\\local\\programs\\python\\python311\\lib\\site-packages (from prompt-toolkit) (0.2.6)\n"
     ]
    },
    {
     "data": {
      "text/plain": [
       "array([[2.27387823, 3.10097517, 6.4169098 , 2.87767955, 2.49368662,\n",
       "        7.01783865, 6.42196404, 2.92710098, 2.76082962, 2.83989642,\n",
       "        6.90671429, 6.29669572, 6.70997325, 2.86447423, 2.98182916,\n",
       "        5.30230866, 6.93508838, 7.39552814, 6.38954571, 8.40480334,\n",
       "        5.86731684, 8.88626687, 6.15154307, 2.80536313, 8.98947784,\n",
       "        5.72755712, 2.84989664, 2.71932158, 3.27994684, 4.98532541,\n",
       "        6.87918388, 3.1350467 , 2.98391599, 3.18698859, 5.84853746,\n",
       "        2.89973689, 5.82303583, 8.97502332, 2.65137327, 6.13284988,\n",
       "        6.83784215, 2.88906535, 6.6597943 , 6.90671429, 5.75658923,\n",
       "        6.07964548, 7.39056884, 5.67534941, 3.20763042, 4.78799318,\n",
       "        7.29398518, 2.78658376, 2.62359037, 5.42379401, 7.0473177 ,\n",
       "        2.81789713, 7.07661105, 2.86378809, 3.08377762, 6.60667608,\n",
       "        4.5851017 , 7.916747  , 6.87152299, 7.27360916, 8.56466301,\n",
       "        5.65817999, 2.60522981, 2.26763285, 6.7929612 , 8.10347906,\n",
       "        2.74574703, 2.84105943, 2.51085605, 6.78926442, 7.63379203,\n",
       "        2.66990015, 7.65499693, 8.02122924, 2.60153302, 6.47575358,\n",
       "        6.57804073, 6.74886132, 6.77353863, 7.3938468 , 2.9511871 ,\n",
       "        7.59657197, 6.00202232, 7.25408709, 5.18545874, 5.48307142,\n",
       "        6.38137982, 2.64259412, 6.53401223, 5.95705518, 2.94588036,\n",
       "        5.73699428, 8.42254914, 7.7648721 , 2.94537535, 4.74345967,\n",
       "        7.90765728, 7.87767779, 2.81789713, 7.80334136, 2.77638909,\n",
       "        6.95344894, 8.33120085, 7.46253781, 5.7901125 , 7.44006165,\n",
       "        6.306096  , 6.20474748, 6.69035017, 6.88121265, 3.17916139,\n",
       "        5.84811865, 6.01421763, 2.84250307, 5.72174538, 8.10599952]])"
      ]
     },
     "execution_count": 1,
     "metadata": {},
     "output_type": "execute_result"
    }
   ],
   "source": [
    "! pip install prompt-toolkit\n",
    "\n",
    "import numpy as np\n",
    "import pandas as pd\n",
    "import math\n",
    "import matplotlib.pyplot as plt\n",
    "d1=pd.read_csv(\"Iris_train.csv\").iloc[:,1:]\n",
    "d3=pd.read_csv(\"Iris_test.csv\").iloc[:,1:]\n",
    "Ytrain=np.array(d1['Species'])\n",
    "Ytest=np.array(d3['Species'])\n",
    "d2=d1.drop(['Species'],axis=1)\n",
    "d4=d3.drop(['Species'],axis=1)\n",
    "attributetrain=d2.to_numpy()\n",
    "attributetest=d4.to_numpy()\n",
    "arr1=attributetrain.T\n",
    "arr2=attributetest.T\n",
    "Originaltrain = np.array(attributetrain, copy=True)\n",
    "Originaltest = np.array(attributetest, copy=True)\n",
    "for i in range(len(arr1)):\n",
    "    arr1[i]=arr1[i]-np.mean(arr1[i])\n",
    "    arr2[i]=arr2[i]-np.mean(arr2[i])\n",
    "C1=np.dot(arr1,arr1.T)/120\n",
    "C2=np.dot(arr2,arr2.T)/30\n",
    "evaluetrain,evectortrain=np.linalg.eig(C1)\n",
    "evaluetest,evectortest=np.linalg.eig(C2)\n",
    "evectortrain = evectortrain.T\n",
    "evectortest = evectortest.T\n",
    "Top1train = evectortrain[:1]\n",
    "Top1test= evectortest[:1]\n",
    "reduceddatatrain=np.dot(Originaltrain,Top1train.T)\n",
    "reduceddatatest=np.dot(Originaltest,Top1test.T)\n",
    "reduceddatatrain=reduceddatatrain.T\n",
    "df=pd.DataFrame(np.array([reduceddatatrain[0],Ytrain]).T,columns=['attribute','Species'])\n",
    "setosa= df.groupby('Species').get_group('Iris-setosa') \n",
    "versicolor=df.groupby('Species').get_group('Iris-versicolor') \n",
    "virginica=df.groupby('Species').get_group('Iris-virginica') \n",
    "reduceddatatrain\n",
    "\n",
    "\n",
    "\n",
    "\n",
    "\n"
   ]
  },
  {
   "cell_type": "markdown",
   "metadata": {},
   "source": [
    "# Bayes classifier"
   ]
  },
  {
   "cell_type": "code",
   "execution_count": 2,
   "metadata": {},
   "outputs": [],
   "source": [
    "Irissetosa=setosa['attribute']\n",
    "Irisversicolor=versicolor['attribute']      \n",
    "Irisvirginica=virginica['attribute']\n",
    "Classes=[Irissetosa,Irisversicolor,Irisvirginica]\n",
    "PriorS=len(setosa.axes[0])/len(df.axes[0])\n",
    "Priorve=len(versicolor.axes[0])/len(df.axes[0])\n",
    "Priorvi=len(virginica.axes[0])/len(df.axes[0])\n",
    "Prior=[PriorS,Priorve,Priorvi]\n",
    "\n",
    "\n"
   ]
  },
  {
   "cell_type": "markdown",
   "metadata": {},
   "source": [
    "## Classification"
   ]
  },
  {
   "cell_type": "code",
   "execution_count": 3,
   "metadata": {},
   "outputs": [
    {
     "data": {
      "text/plain": [
       "[[array([6.48301376]), 'Iris-versicolor'],\n",
       " [array([3.37868613]), 'Iris-setosa'],\n",
       " [array([9.36080695]), 'Iris-virginica'],\n",
       " [array([6.37861702]), 'Iris-versicolor'],\n",
       " [array([6.89723943]), 'Iris-virginica'],\n",
       " [array([3.16280886]), 'Iris-setosa'],\n",
       " [array([5.39146286]), 'Iris-versicolor'],\n",
       " [array([7.49805426]), 'Iris-virginica'],\n",
       " [array([6.50033072]), 'Iris-versicolor'],\n",
       " [array([5.6978117]), 'Iris-versicolor'],\n",
       " [array([7.23523399]), 'Iris-virginica'],\n",
       " [array([2.77633974]), 'Iris-setosa'],\n",
       " [array([2.94861334]), 'Iris-setosa'],\n",
       " [array([2.89124567]), 'Iris-setosa'],\n",
       " [array([2.98882916]), 'Iris-setosa'],\n",
       " [array([6.66764342]), 'Iris-versicolor'],\n",
       " [array([7.91950226]), 'Iris-virginica'],\n",
       " [array([5.60206016]), 'Iris-versicolor'],\n",
       " [array([6.20280538]), 'Iris-versicolor'],\n",
       " [array([7.72622741]), 'Iris-virginica'],\n",
       " [array([2.93311512]), 'Iris-setosa'],\n",
       " [array([6.85919897]), 'Iris-virginica'],\n",
       " [array([3.10197824]), 'Iris-setosa'],\n",
       " [array([7.68965285]), 'Iris-virginica'],\n",
       " [array([8.8141878]), 'Iris-virginica'],\n",
       " [array([7.51724619]), 'Iris-virginica'],\n",
       " [array([7.88102066]), 'Iris-virginica'],\n",
       " [array([8.13710826]), 'Iris-virginica'],\n",
       " [array([2.84948886]), 'Iris-setosa'],\n",
       " [array([2.97660066]), 'Iris-setosa']]"
      ]
     },
     "execution_count": 3,
     "metadata": {},
     "output_type": "execute_result"
    }
   ],
   "source": [
    "\n",
    "\n",
    "Predicted=[]\n",
    "\n",
    "for i in range(len(reduceddatatest)):\n",
    "    val=[]\n",
    "    l=[]\n",
    "    posterior=[]\n",
    "    Total=0\n",
    "    val.append(reduceddatatest[i])\n",
    "    for j in range(3):      \n",
    "        likelihood = pow(math.e,-pow((reduceddatatest[i][0] - np.mean(Classes[j]))/np.std(Classes[j]),2)/2)/np.std(Classes[j])\n",
    "        l.append(likelihood)     \n",
    "    for k in range(3):\n",
    "        p=((l[k])*(Prior[k]))\n",
    "        posterior.append(p)\n",
    "    if max(posterior)==posterior[0]:\n",
    "        val.append(\"Iris-setosa\")\n",
    "    elif max(posterior)==posterior[1]:\n",
    "        val.append(\"Iris-versicolor\")\n",
    "    elif max(posterior)==posterior[2]:\n",
    "        val.append(\"Iris-virginica\") \n",
    "    Predicted.append(val)\n",
    "\n",
    "Predicted\n",
    "\n",
    "    "
   ]
  },
  {
   "cell_type": "markdown",
   "metadata": {},
   "source": [
    "# Confusion matrix\n"
   ]
  },
  {
   "cell_type": "code",
   "execution_count": 4,
   "metadata": {},
   "outputs": [
    {
     "name": "stderr",
     "output_type": "stream",
     "text": [
      "C:\\Users\\Nani Panyu\\AppData\\Local\\Temp\\ipykernel_30736\\215439264.py:2: VisibleDeprecationWarning: Creating an ndarray from ragged nested sequences (which is a list-or-tuple of lists-or-tuples-or ndarrays with different lengths or shapes) is deprecated. If you meant to do this, you must specify 'dtype=object' when creating the ndarray.\n",
      "  predicted=np.array(Predicted).T\n"
     ]
    },
    {
     "data": {
      "text/plain": [
       "array([[10,  0,  0],\n",
       "       [ 0,  8,  1],\n",
       "       [ 0,  0, 11]], dtype=int64)"
      ]
     },
     "execution_count": 4,
     "metadata": {},
     "output_type": "execute_result"
    }
   ],
   "source": [
    "from sklearn.metrics import confusion_matrix,ConfusionMatrixDisplay\n",
    "predicted=np.array(Predicted).T\n",
    "CM=confusion_matrix(Ytest,predicted[1])\n",
    "CM\n",
    "\n"
   ]
  },
  {
   "cell_type": "code",
   "execution_count": 5,
   "metadata": {},
   "outputs": [
    {
     "data": {
      "text/plain": [
       "<sklearn.metrics._plot.confusion_matrix.ConfusionMatrixDisplay at 0x20b44592cd0>"
      ]
     },
     "execution_count": 5,
     "metadata": {},
     "output_type": "execute_result"
    },
    {
     "data": {
      "image/png": "[encoded data removed]",
      "text/plain": [
       "<Figure size 640x480 with 2 Axes>"
      ]
     },
     "metadata": {},
     "output_type": "display_data"
    }
   ],
   "source": [
    "ConfusionMatrixDisplay(CM).plot()"
   ]
  },
  {
   "cell_type": "markdown",
   "metadata": {},
   "source": [
    "# Accuracy"
   ]
  },
  {
   "cell_type": "code",
   "execution_count": 6,
   "metadata": {},
   "outputs": [
    {
     "name": "stdout",
     "output_type": "stream",
     "text": [
      "Accuracy is: 96.66666666666667\n"
     ]
    }
   ],
   "source": [
    "count=0\n",
    "for i in range(len(Ytest)):\n",
    "    if predicted[1][i]==Ytest[i]:\n",
    "        count+=1\n",
    "print(\"Accuracy is:\",(count/len(Ytest))*100)        "
   ]
  }
 ],
 "metadata": {
  "kernelspec": {
   "display_name": "Python 3",
   "language": "python",
   "name": "python3"
  },
  "language_info": {
   "codemirror_mode": {
    "name": "ipython",
    "version": 3
   },
   "file_extension": ".py",
   "mimetype": "text/x-python",
   "name": "python",
   "nbconvert_exporter": "python",
   "pygments_lexer": "ipython3",
   "version": "3.11.0"
  }
 },
 "nbformat": 4,
 "nbformat_minor": 2
}
