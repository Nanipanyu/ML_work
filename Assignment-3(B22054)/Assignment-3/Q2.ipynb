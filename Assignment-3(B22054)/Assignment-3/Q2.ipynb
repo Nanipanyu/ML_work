{
 "cells": [
  {
   "cell_type": "markdown",
   "metadata": {},
   "source": [
    "# (2)\n"
   ]
  },
  {
   "cell_type": "code",
   "execution_count": 1,
   "metadata": {},
   "outputs": [
    {
     "data": {
      "text/plain": [
       "array([[6.1, 2.8, 4.7, 1.2],\n",
       "       [5.7, 3.8, 1.7, 0.3],\n",
       "       [7.7, 2.6, 6.9, 2.3],\n",
       "       [6. , 2.9, 4.5, 1.5],\n",
       "       [6.8, 2.8, 4.8, 1.4],\n",
       "       [5.4, 3.4, 1.5, 0.4],\n",
       "       [5.6, 2.9, 3.6, 1.3],\n",
       "       [6.9, 3.1, 5.1, 2.3],\n",
       "       [6.2, 2.2, 4.5, 1.5],\n",
       "       [5.8, 2.7, 3.9, 1.2],\n",
       "       [6.5, 3.2, 5.1, 2. ],\n",
       "       [4.8, 3. , 1.4, 0.1],\n",
       "       [5.5, 3.5, 1.3, 0.2],\n",
       "       [4.9, 3.1, 1.5, 0.1],\n",
       "       [5.1, 3.8, 1.5, 0.3],\n",
       "       [6.3, 3.3, 4.7, 1.6],\n",
       "       [6.5, 3. , 5.8, 2.2],\n",
       "       [5.6, 2.5, 3.9, 1.1],\n",
       "       [5.7, 2.8, 4.5, 1.3],\n",
       "       [6.4, 2.8, 5.6, 2.2],\n",
       "       [4.7, 3.2, 1.6, 0.2],\n",
       "       [6.1, 3. , 4.9, 1.8],\n",
       "       [5. , 3.4, 1.6, 0.4],\n",
       "       [6.4, 2.8, 5.6, 2.1],\n",
       "       [7.9, 3.8, 6.4, 2. ],\n",
       "       [6.7, 3. , 5.2, 2.3],\n",
       "       [6.7, 2.5, 5.8, 1.8],\n",
       "       [6.8, 3.2, 5.9, 2.3],\n",
       "       [4.8, 3. , 1.4, 0.3],\n",
       "       [4.8, 3.1, 1.6, 0.2]])"
      ]
     },
     "execution_count": 1,
     "metadata": {},
     "output_type": "execute_result"
    }
   ],
   "source": [
    "import numpy as np\n",
    "import pandas as pd\n",
    "import math\n",
    "import matplotlib.pyplot as plt\n",
    "d1=pd.read_csv(\"Iris_train.csv\").iloc[:,1:]\n",
    "d3=pd.read_csv(\"Iris_test.csv\").iloc[:,1:]\n",
    "Actual_Class=d3['Species']\n",
    "d4=d3.drop(['Species'],axis=1)\n",
    "d4=np.array(d4)\n",
    "a=np.array(d1)\n",
    "d4\n",
    "\n",
    "\n",
    "\n",
    "\n",
    "\n",
    "\n",
    "\n",
    "\n",
    "\n",
    "\n"
   ]
  },
  {
   "cell_type": "markdown",
   "metadata": {},
   "source": [
    "# Calculating Prior and likelihood"
   ]
  },
  {
   "cell_type": "code",
   "execution_count": 2,
   "metadata": {},
   "outputs": [
    {
     "data": {
      "text/plain": [
       "array([[4.99      , 3.44      , 1.4525    , 0.2425    ],\n",
       "       [5.9195122 , 2.77073171, 4.24146341, 1.32195122],\n",
       "       [6.53333333, 2.96666667, 5.52051282, 2.        ]])"
      ]
     },
     "execution_count": 2,
     "metadata": {},
     "output_type": "execute_result"
    }
   ],
   "source": [
    "def group(df,str_1,str_2):\n",
    "    x= df.groupby(str_1).get_group(str_2)\n",
    "    return x\n",
    "setosa= group(d1,'Species','Iris-setosa')\n",
    "versicolor=group(d1,'Species','Iris-versicolor')\n",
    "virginica= group(d1,'Species','Iris-virginica')\n",
    "Irissetosa=setosa.drop(['Species'],axis=1)\n",
    "Irisversicolor=versicolor.drop(['Species'],axis=1)      \n",
    "Irisvirginica=virginica.drop(['Species'],axis=1)\n",
    "Class=[(Irissetosa),(Irisversicolor),(Irisvirginica)]\n",
    "mean=[]\n",
    "for i in range(len(Class)):\n",
    "    mean.append(Class[i].mean())\n",
    "def standard(df):\n",
    "    a=np.array(df)\n",
    "    b=a.T\n",
    "    for j in range(len(b)):\n",
    "        b[j]=b[j]-np.mean(b[j])\n",
    "    return b         \n",
    "Classes=[standard(Irissetosa),standard(Irisversicolor),standard(Irisvirginica)]\n",
    "PriorS=len(setosa.axes[0])/len(d1.axes[0])\n",
    "Priorve=len(versicolor.axes[0])/len(d1.axes[0])\n",
    "Priorvi=len(virginica.axes[0])/len(d1.axes[0])\n",
    "Prior=[PriorS,Priorve,Priorvi]\n",
    "mean=np.array(mean)\n",
    "mean\n",
    "\n"
   ]
  },
  {
   "cell_type": "markdown",
   "metadata": {},
   "source": [
    "# Classification"
   ]
  },
  {
   "cell_type": "code",
   "execution_count": 3,
   "metadata": {},
   "outputs": [
    {
     "name": "stderr",
     "output_type": "stream",
     "text": [
      "C:\\Users\\Nani Panyu\\AppData\\Local\\Temp\\ipykernel_1800\\153712285.py:7: RuntimeWarning: overflow encountered in double_scalars\n",
      "  likelihood=(1/(pow((2*math.pi),len(d4[0])/2)*pow(np.linalg.det(covariance),0.5)*(pow(math.e,(np.dot((np.dot(d4[i]-mean[j],(np.linalg.inv(covariance)))),(d4[i]-mean[j]).T))))))\n"
     ]
    },
    {
     "data": {
      "text/plain": [
       "['Iris-versicolor',\n",
       " 'Iris-setosa',\n",
       " 'Iris-virginica',\n",
       " 'Iris-versicolor',\n",
       " 'Iris-versicolor',\n",
       " 'Iris-setosa',\n",
       " 'Iris-versicolor',\n",
       " 'Iris-virginica',\n",
       " 'Iris-virginica',\n",
       " 'Iris-versicolor',\n",
       " 'Iris-virginica',\n",
       " 'Iris-setosa',\n",
       " 'Iris-setosa',\n",
       " 'Iris-setosa',\n",
       " 'Iris-setosa',\n",
       " 'Iris-versicolor',\n",
       " 'Iris-virginica',\n",
       " 'Iris-versicolor',\n",
       " 'Iris-versicolor',\n",
       " 'Iris-virginica',\n",
       " 'Iris-setosa',\n",
       " 'Iris-virginica',\n",
       " 'Iris-setosa',\n",
       " 'Iris-virginica',\n",
       " 'Iris-virginica',\n",
       " 'Iris-virginica',\n",
       " 'Iris-virginica',\n",
       " 'Iris-virginica',\n",
       " 'Iris-setosa',\n",
       " 'Iris-setosa']"
      ]
     },
     "execution_count": 3,
     "metadata": {},
     "output_type": "execute_result"
    }
   ],
   "source": [
    "\n",
    "Predicted=[]\n",
    "for i in range(len(d4)):\n",
    "    Prob=[]\n",
    "    for j in range(3):\n",
    "        p=Prior[j]\n",
    "        covariance=np.dot(Classes[j],Classes[j].T)/len(Classes[j][0])      \n",
    "        likelihood=(1/(pow((2*math.pi),len(d4[0])/2)*pow(np.linalg.det(covariance),0.5)*(pow(math.e,(np.dot((np.dot(d4[i]-mean[j],(np.linalg.inv(covariance)))),(d4[i]-mean[j]).T))))))     \n",
    "        posterior=p*likelihood\n",
    "        Prob.append(posterior)   \n",
    "    if max(Prob)==Prob[0]:\n",
    "        Predicted.append(\"Iris-setosa\")\n",
    "    elif max(Prob)==Prob[1]:\n",
    "        Predicted.append(\"Iris-versicolor\")\n",
    "    elif max(Prob)==Prob[2]:\n",
    "        Predicted.append(\"Iris-virginica\") \n",
    "Predicted \n",
    "\n",
    "\n",
    "    "
   ]
  },
  {
   "cell_type": "markdown",
   "metadata": {},
   "source": [
    "# Confusion matrix"
   ]
  },
  {
   "cell_type": "code",
   "execution_count": 4,
   "metadata": {},
   "outputs": [
    {
     "data": {
      "text/plain": [
       "array([[10,  0,  0],\n",
       "       [ 0,  8,  1],\n",
       "       [ 0,  0, 11]], dtype=int64)"
      ]
     },
     "execution_count": 4,
     "metadata": {},
     "output_type": "execute_result"
    }
   ],
   "source": [
    "from sklearn.metrics import confusion_matrix,ConfusionMatrixDisplay\n",
    "predicted=np.array(Predicted)\n",
    "CM=confusion_matrix(Actual_Class,predicted, labels=['Iris-setosa','Iris-versicolor','Iris-virginica'])\n",
    "CM\n"
   ]
  },
  {
   "cell_type": "code",
   "execution_count": 5,
   "metadata": {},
   "outputs": [
    {
     "data": {
      "text/plain": [
       "<sklearn.metrics._plot.confusion_matrix.ConfusionMatrixDisplay at 0x1ae6931b190>"
      ]
     },
     "execution_count": 5,
     "metadata": {},
     "output_type": "execute_result"
    },
    {
     "data": {
      "image/png": "[encoded data removed]",
      "text/plain": [
       "<Figure size 640x480 with 2 Axes>"
      ]
     },
     "metadata": {},
     "output_type": "display_data"
    }
   ],
   "source": [
    "ConfusionMatrixDisplay(CM).plot()"
   ]
  },
  {
   "cell_type": "markdown",
   "metadata": {},
   "source": [
    "# Accuracy"
   ]
  },
  {
   "cell_type": "code",
   "execution_count": 6,
   "metadata": {},
   "outputs": [
    {
     "name": "stdout",
     "output_type": "stream",
     "text": [
      "Accuracy is: 96.66666666666667\n"
     ]
    }
   ],
   "source": [
    "count=0\n",
    "for i in range(len(Actual_Class)):\n",
    "    if Predicted[i]==Actual_Class[i]:\n",
    "        count+=1\n",
    "print(\"Accuracy is:\",(count/len(Actual_Class))*100)    "
   ]
  },
  {
   "cell_type": "code",
   "execution_count": null,
   "metadata": {},
   "outputs": [],
   "source": []
  }
 ],
 "metadata": {
  "kernelspec": {
   "display_name": "Python 3",
   "language": "python",
   "name": "python3"
  },
  "language_info": {
   "codemirror_mode": {
    "name": "ipython",
    "version": 3
   },
   "file_extension": ".py",
   "mimetype": "text/x-python",
   "name": "python",
   "nbconvert_exporter": "python",
   "pygments_lexer": "ipython3",
   "version": "3.11.0"
  }
 },
 "nbformat": 4,
 "nbformat_minor": 2
}
