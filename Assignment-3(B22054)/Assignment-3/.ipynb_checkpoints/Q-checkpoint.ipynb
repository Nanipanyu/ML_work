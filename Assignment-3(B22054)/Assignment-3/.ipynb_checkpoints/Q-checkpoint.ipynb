{
 "cells": [
  {
   "cell_type": "markdown",
   "metadata": {},
   "source": [
    "# PCA\n"
   ]
  },
  {
   "cell_type": "code",
   "execution_count": 153,
   "metadata": {},
   "outputs": [
    {
     "data": {
      "text/html": [
       "<div>\n",
       "<style scoped>\n",
       "    .dataframe tbody tr th:only-of-type {\n",
       "        vertical-align: middle;\n",
       "    }\n",
       "\n",
       "    .dataframe tbody tr th {\n",
       "        vertical-align: top;\n",
       "    }\n",
       "\n",
       "    .dataframe thead th {\n",
       "        text-align: right;\n",
       "    }\n",
       "</style>\n",
       "<table border=\"1\" class=\"dataframe\">\n",
       "  <thead>\n",
       "    <tr style=\"text-align: right;\">\n",
       "      <th></th>\n",
       "      <th>0</th>\n",
       "    </tr>\n",
       "  </thead>\n",
       "  <tbody>\n",
       "    <tr>\n",
       "      <th>Iris-setosa</th>\n",
       "      <td>2.273878</td>\n",
       "    </tr>\n",
       "    <tr>\n",
       "      <th>Iris-setosa</th>\n",
       "      <td>3.100975</td>\n",
       "    </tr>\n",
       "    <tr>\n",
       "      <th>Iris-versicolor</th>\n",
       "      <td>6.416910</td>\n",
       "    </tr>\n",
       "    <tr>\n",
       "      <th>Iris-setosa</th>\n",
       "      <td>2.877680</td>\n",
       "    </tr>\n",
       "    <tr>\n",
       "      <th>Iris-setosa</th>\n",
       "      <td>2.493687</td>\n",
       "    </tr>\n",
       "    <tr>\n",
       "      <th>...</th>\n",
       "      <td>...</td>\n",
       "    </tr>\n",
       "    <tr>\n",
       "      <th>Iris-versicolor</th>\n",
       "      <td>5.848119</td>\n",
       "    </tr>\n",
       "    <tr>\n",
       "      <th>Iris-virginica</th>\n",
       "      <td>6.014218</td>\n",
       "    </tr>\n",
       "    <tr>\n",
       "      <th>Iris-setosa</th>\n",
       "      <td>2.842503</td>\n",
       "    </tr>\n",
       "    <tr>\n",
       "      <th>Iris-versicolor</th>\n",
       "      <td>5.721745</td>\n",
       "    </tr>\n",
       "    <tr>\n",
       "      <th>Iris-virginica</th>\n",
       "      <td>8.106000</td>\n",
       "    </tr>\n",
       "  </tbody>\n",
       "</table>\n",
       "<p>120 rows × 1 columns</p>\n",
       "</div>"
      ],
      "text/plain": [
       "                        0\n",
       "Iris-setosa      2.273878\n",
       "Iris-setosa      3.100975\n",
       "Iris-versicolor  6.416910\n",
       "Iris-setosa      2.877680\n",
       "Iris-setosa      2.493687\n",
       "...                   ...\n",
       "Iris-versicolor  5.848119\n",
       "Iris-virginica   6.014218\n",
       "Iris-setosa      2.842503\n",
       "Iris-versicolor  5.721745\n",
       "Iris-virginica   8.106000\n",
       "\n",
       "[120 rows x 1 columns]"
      ]
     },
     "execution_count": 153,
     "metadata": {},
     "output_type": "execute_result"
    }
   ],
   "source": [
    "import numpy as np\n",
    "import pandas as pd\n",
    "import math\n",
    "import matplotlib.pyplot as plt\n",
    "d1=pd.read_csv(\"Iris_train.csv\").iloc[:,1:]\n",
    "d3=pd.read_csv(\"Iris_test.csv\").iloc[:,1:]\n",
    "Ytrain=np.array(d1['Species'])\n",
    "Ytest=np.array(d3['Species'])\n",
    "d2=d1.drop(['Species'],axis=1)\n",
    "d4=d3.drop(['Species'],axis=1)\n",
    "attributetrain=d2.to_numpy()\n",
    "attributetest=d4.to_numpy()\n",
    "arr1=attributetrain.T\n",
    "arr2=attributetest.T\n",
    "Originaltrain = np.array(attributetrain, copy=True)\n",
    "Originaltest = np.array(attributetest, copy=True)\n",
    "for i in range(len(arr1)):\n",
    "    arr1[i]=arr1[i]-np.mean(arr1[i])\n",
    "    arr2[i]=arr2[i]-np.mean(arr2[i])\n",
    "C1=np.dot(arr1,arr1.T)/120\n",
    "C2=np.dot(arr2,arr2.T)/30\n",
    "evaluetrain,evectortrain=np.linalg.eig(C1)\n",
    "evaluetest,evectortest=np.linalg.eig(C2)\n",
    "evectortrain = evectortrain.T\n",
    "evectortest = evectortest.T\n",
    "Top1train = evectortrain[:1]\n",
    "Top1test= evectortest[:1]\n",
    "reduceddatatrain=np.dot(Originaltrain,Top1train.T)\n",
    "reduceddatatest=np.dot(Originaltest,Top1test.T)\n",
    "# reduceddatatrain\n",
    "df=pd.DataFrame(reduceddatatrain,Ytrain)\n",
    "df\n",
    "reduceddatatrain=reduceddatatrain.T\n",
    "Irissetosa=\n",
    "\n",
    "\n",
    "\n",
    "\n",
    "\n"
   ]
  },
  {
   "cell_type": "markdown",
   "metadata": {},
   "source": [
    "# Bayes classifier"
   ]
  },
  {
   "cell_type": "code",
   "execution_count": 138,
   "metadata": {},
   "outputs": [
    {
     "name": "stderr",
     "output_type": "stream",
     "text": [
      "C:\\Users\\Nani Panyu\\AppData\\Local\\Temp\\ipykernel_9460\\17432708.py:12: VisibleDeprecationWarning: Creating an ndarray from ragged nested sequences (which is a list-or-tuple of lists-or-tuples-or ndarrays with different lengths or shapes) is deprecated. If you meant to do this, you must specify 'dtype=object' when creating the ndarray.\n",
      "  Classes=np.array(classes)\n"
     ]
    },
    {
     "data": {
      "text/plain": [
       "array([list([2.27387822835644, 3.1009751656851154, 2.877679546822985, 2.49368662490878, 2.9271009801351897, 2.7608296221477953, 2.839896418344025, 2.864474225187616, 2.9818291552558116, 2.8053631316873506, 2.849896641226907, 2.7193215790929424, 3.2799468399148726, 3.135046696516702, 2.9839159878813417, 3.186988590920604, 2.899736892574879, 2.651373271906552, 2.889065348959727, 3.207630424779239, 2.7865837551166623, 2.623590366310474, 2.8178971325904496, 2.863788094024946, 3.083777616346951, 2.6052298077755527, 2.26763285268885, 2.74574703279408, 2.841059427540781, 2.510856046888025, 2.669900145780737, 2.60153302055858, 2.9511870985142954, 2.642594118218745, 2.945880356705878, 2.9453753513128724, 2.8178971325904496, 2.7763890895355967, 3.1791613880204905, 2.8425030667929603]),\n",
       "       list([6.416909799623107, 6.42196403873502, 6.296695718409473, 6.7099732451702545, 5.302308661252203, 6.389545712062796, 5.867316840453777, 6.1515430723148, 5.7275571235247575, 4.985325412665215, 5.848537463883089, 5.823035833610725, 6.132849883101349, 5.756589225674832, 6.079645475214933, 5.675349409495834, 4.787993179900536, 5.423794007003539, 7.0473176975604535, 6.606676083239361, 4.585101702630938, 6.8715229947242635, 5.658179987516589, 6.789264416704066, 6.475753579996469, 6.578040731141348, 6.773538633977001, 6.002022318270882, 5.185458736577014, 5.483071415843069, 6.381379819108941, 6.534012226994798, 5.95705518026516, 5.736994281016315, 4.743459670360981, 6.953448942065932, 5.790112501545494, 6.306095997486922, 6.204747480201215, 5.848118645847321, 5.721745376323336]),\n",
       "       list([7.017838650015693, 6.9067142851846866, 6.93508838353101, 7.39552813626399, 8.40480334007679, 8.886266866290065, 8.989477840863717, 6.879183882285112, 8.975023322674355, 6.8378421545695245, 6.659794303768539, 6.9067142851846866, 7.390568835564503, 7.293985176280098, 7.076611053462216, 7.916746997086998, 7.273609162046486, 8.56466300705733, 6.792961203921039, 8.103479063163363, 7.6337920297636765, 7.6549969290136355, 8.021229236198351, 6.7488613228476515, 7.393846804745708, 7.596571966676041, 7.254087087816689, 8.422549144375878, 7.764872097290648, 7.9076572807043695, 7.8776777936399345, 7.803341356932277, 8.331200849973053, 7.462537809591207, 7.440061645803545, 6.690350173152819, 6.881212654912323, 6.014217629120239, 8.10599952425506])],\n",
       "      dtype=object)"
      ]
     },
     "execution_count": 138,
     "metadata": {},
     "output_type": "execute_result"
    }
   ],
   "source": [
    "Irissetosa=[]\n",
    "Irisversicolor=[]\n",
    "Irisvirginica=[]\n",
    "classes=[Irissetosa,Irisversicolor,Irisvirginica]\n",
    "for i in range(len(reduceddatatrain[0])):\n",
    "    if(Ytrain[i]==\"Iris-setosa\"):\n",
    "        Irissetosa.append(reduceddatatrain[0][i])\n",
    "    if(Ytrain[i]==\"Iris-versicolor\"):\n",
    "        Irisversicolor.append(reduceddatatrain[0][i])\n",
    "    if(Ytrain[i]==\"Iris-virginica\"):\n",
    "        Irisvirginica.append(reduceddatatrain[0][i])        \n",
    "Classes=np.array(classes)\n",
    "Classes\n",
    "# Classes.shape  \n",
    "# setosa=np.random.normal(np.mean(Irissetosa),np.std(Irissetosa),len(Irissetosa))\n",
    "# virginica=np.random.normal(np.mean(Irisvirginica),np.std(Irisvirginica),len(Irisvirginica))\n",
    "# versicolor=np.random.normal(np.mean(Irisversicolor),np.std(Irisversicolor),len(Irisversicolor))  \n",
    "\n"
   ]
  },
  {
   "cell_type": "markdown",
   "metadata": {},
   "source": [
    "## Classification"
   ]
  },
  {
   "cell_type": "code",
   "execution_count": 139,
   "metadata": {},
   "outputs": [
    {
     "ename": "TypeError",
     "evalue": "_sum_dispatcher() missing 1 required positional argument: 'a'",
     "output_type": "error",
     "traceback": [
      "\u001b[1;31m---------------------------------------------------------------------------\u001b[0m",
      "\u001b[1;31mTypeError\u001b[0m                                 Traceback (most recent call last)",
      "\u001b[1;32mc:\\Users\\Nani Panyu\\OneDrive\\Desktop\\Assignment-3\\Assignment-3\\Q.ipynb Cell 6\u001b[0m line \u001b[0;36m5\n\u001b[0;32m      <a href='vscode-notebook-cell:/c%3A/Users/Nani%20Panyu/OneDrive/Desktop/Assignment-3/Assignment-3/Q.ipynb#W3sZmlsZQ%3D%3D?line=2'>3</a>\u001b[0m likelihood\u001b[39m=\u001b[39m(\u001b[39m1\u001b[39m\u001b[39m/\u001b[39m((np\u001b[39m.\u001b[39mstd(Classes[\u001b[39m0\u001b[39m])\u001b[39m*\u001b[39m\u001b[39mpow\u001b[39m((\u001b[39m2\u001b[39m\u001b[39m*\u001b[39mmath\u001b[39m.\u001b[39mpi),\u001b[39m0.5\u001b[39m))\u001b[39m*\u001b[39m\u001b[39mpow\u001b[39m((math\u001b[39m.\u001b[39me),(\u001b[39m0.5\u001b[39m\u001b[39m*\u001b[39m\u001b[39mpow\u001b[39m((reduceddatatest\u001b[39m-\u001b[39mnp\u001b[39m.\u001b[39mmean(Classes[\u001b[39m0\u001b[39m])\u001b[39m/\u001b[39mnp\u001b[39m.\u001b[39mstd(Classes[\u001b[39m0\u001b[39m])),\u001b[39m2\u001b[39m)))))  \n\u001b[0;32m      <a href='vscode-notebook-cell:/c%3A/Users/Nani%20Panyu/OneDrive/Desktop/Assignment-3/Assignment-3/Q.ipynb#W3sZmlsZQ%3D%3D?line=3'>4</a>\u001b[0m \u001b[39mfor\u001b[39;00m k \u001b[39min\u001b[39;00m \u001b[39mrange\u001b[39m(\u001b[39m3\u001b[39m):\n\u001b[1;32m----> <a href='vscode-notebook-cell:/c%3A/Users/Nani%20Panyu/OneDrive/Desktop/Assignment-3/Assignment-3/Q.ipynb#W3sZmlsZQ%3D%3D?line=4'>5</a>\u001b[0m     Total\u001b[39m=\u001b[39mnp\u001b[39m.\u001b[39;49msum()\n",
      "File \u001b[1;32m<__array_function__ internals>:179\u001b[0m, in \u001b[0;36msum\u001b[1;34m(*args, **kwargs)\u001b[0m\n",
      "\u001b[1;31mTypeError\u001b[0m: _sum_dispatcher() missing 1 required positional argument: 'a'"
     ]
    }
   ],
   "source": [
    "for i in range(len(reduceddatatest[0])):\n",
    "    l=[]\n",
    "    for j in range(3):      \n",
    "        likelihood=(1/((np.std(Classes[j])*pow((2*math.pi),0.5))*pow((math.e),(0.5*pow((reduceddatatest[0][i]-np.mean(Classes[j])/np.std(Classes[j])),2))))) \n",
    "        l.append(likelihood) \n",
    "    Total=\n",
    "    for k in range(3):\n",
    "        p=((1/3)*(l[k]))/Total\n"
   ]
  },
  {
   "cell_type": "code",
   "execution_count": 111,
   "metadata": {},
   "outputs": [
    {
     "ename": "ValueError",
     "evalue": "The truth value of an array with more than one element is ambiguous. Use a.any() or a.all()",
     "output_type": "error",
     "traceback": [
      "\u001b[1;31m---------------------------------------------------------------------------\u001b[0m",
      "\u001b[1;31mValueError\u001b[0m                                Traceback (most recent call last)",
      "\u001b[1;32mc:\\Users\\Nani Panyu\\OneDrive\\Desktop\\Assignment-3\\Assignment-3\\Q.ipynb Cell 7\u001b[0m line \u001b[0;36m1\n\u001b[1;32m----> <a href='vscode-notebook-cell:/c%3A/Users/Nani%20Panyu/OneDrive/Desktop/Assignment-3/Assignment-3/Q.ipynb#W4sZmlsZQ%3D%3D?line=0'>1</a>\u001b[0m Irissetosa\u001b[39m.\u001b[39;49mcount(\u001b[39m2.27387823\u001b[39;49m)\n",
      "\u001b[1;31mValueError\u001b[0m: The truth value of an array with more than one element is ambiguous. Use a.any() or a.all()"
     ]
    }
   ],
   "source": [
    "Irissetosa.count(2.27387823)\n"
   ]
  },
  {
   "cell_type": "code",
   "execution_count": null,
   "metadata": {},
   "outputs": [],
   "source": []
  }
 ],
 "metadata": {
  "kernelspec": {
   "display_name": "Python 3",
   "language": "python",
   "name": "python3"
  },
  "language_info": {
   "codemirror_mode": {
    "name": "ipython",
    "version": 3
   },
   "file_extension": ".py",
   "mimetype": "text/x-python",
   "name": "python",
   "nbconvert_exporter": "python",
   "pygments_lexer": "ipython3",
   "version": "3.11.0"
  }
 },
 "nbformat": 4,
 "nbformat_minor": 2
}
