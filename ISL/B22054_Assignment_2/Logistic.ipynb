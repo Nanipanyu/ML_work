{
 "cells": [
  {
   "cell_type": "code",
   "execution_count": 1,
   "metadata": {},
   "outputs": [],
   "source": [
    "import pandas as pd\n",
    "import numpy as np\n",
    "import matplotlib.pyplot as plt\n",
    "from sklearn.model_selection import train_test_split\n",
    "from sklearn.metrics import accuracy_score\n",
    "from sklearn.preprocessing import OneHotEncoder"
   ]
  },
  {
   "cell_type": "code",
   "execution_count": 2,
   "metadata": {},
   "outputs": [],
   "source": [
    "Data = pd.read_csv('BankNote_Authentication.csv')\n",
    "X_train, X_test,Y_train,Y_test = train_test_split(Data.iloc[:,:4],Data.iloc[:,-1] ,test_size=0.3, random_state=42)\n",
    "X_train = X_train.values\n",
    "X_test = X_test.values\n",
    "Y_train = Y_train.values.reshape(-1, 1)\n",
    "Y_test = Y_test.values.reshape(-1, 1)"
   ]
  },
  {
   "cell_type": "markdown",
   "metadata": {},
   "source": [
    "# Logistic regression2"
   ]
  },
  {
   "cell_type": "code",
   "execution_count": 3,
   "metadata": {},
   "outputs": [
    {
     "name": "stdout",
     "output_type": "stream",
     "text": [
      "Iteration 0: binarycrossentropy = 0.6931471805599453\n",
      "Iteration 100: binarycrossentropy = 0.2585893618146986\n",
      "Iteration 200: binarycrossentropy = 0.1934233295977421\n",
      "Iteration 300: binarycrossentropy = 0.16335205363301922\n",
      "Iteration 400: binarycrossentropy = 0.14495099914647766\n",
      "Iteration 500: binarycrossentropy = 0.13207660085021333\n",
      "Iteration 600: binarycrossentropy = 0.12234310946319271\n",
      "Iteration 700: binarycrossentropy = 0.11460621542551475\n",
      "Iteration 800: binarycrossentropy = 0.10823855335145713\n",
      "Iteration 900: binarycrossentropy = 0.10286272071971751\n",
      "Training Accuracy: 97.50%\n",
      "Test Accuracy: 97.09%\n"
     ]
    }
   ],
   "source": [
    "\n",
    "def sigmoid(z):\n",
    "    return 1 / (1 + np.exp(-z))\n",
    "\n",
    "\n",
    "def initialize_parameters(n_features):\n",
    "    W = np.zeros((n_features, 1))\n",
    "    b = 0\n",
    "    return W, b\n",
    "\n",
    "\n",
    "def forward_propagation(X, W, b):\n",
    "    z = np.dot(X, W) + b\n",
    "    a = sigmoid(z)\n",
    "    return a\n",
    "\n",
    "\n",
    "def loss(A, Y):\n",
    "    m = Y.shape[0]\n",
    "    cost = - (1/m) * np.sum(Y*np.log(A) + (1-Y)*np.log(1-A))\n",
    "    return cost\n",
    "\n",
    "\n",
    "def backward_propagation(X, z, Y):\n",
    "    m = X.shape[0]\n",
    "    dW = (1/m) * np.dot(X.T, (z - Y))\n",
    "    db = (1/m) * np.sum(z - Y)\n",
    "    return dW, db\n",
    "\n",
    "\n",
    "def gradient_descent(X, Y, W, b, learning_rate, iterations):\n",
    "    costs = []\n",
    "    for i in range(iterations):\n",
    "        A = forward_propagation(X, W, b)\n",
    "        cost = loss(A, Y)\n",
    "        dW, db = backward_propagation(X, A, Y)\n",
    "        W-= learning_rate * dW\n",
    "        b -= learning_rate * db\n",
    "        if i % 100 == 0:\n",
    "            costs.append(cost)\n",
    "            print(f\"Iteration {i}: binarycrossentropy = {cost}\")\n",
    "    \n",
    "    return W, b, costs\n",
    "\n",
    "\n",
    "def predict(X, W, b):\n",
    "    A = forward_propagation(X, W, b)\n",
    "    return np.where(A > 0.5, 1, 0)\n",
    "\n",
    "\n",
    "features = X_train.shape[1]\n",
    "W, b = initialize_parameters(features)\n",
    "iter = 1000\n",
    "lr = 0.01\n",
    "W, b, costs = gradient_descent(X_train, Y_train, W, b, lr, iter)\n",
    "\n",
    "Y_pred_train = predict(X_train, W, b)\n",
    "Y_pred_test = predict(X_test, W, b)\n",
    "\n",
    "\n",
    "train_accuracy = accuracy_score(Y_train, Y_pred_train)\n",
    "test_accuracy = accuracy_score(Y_test, Y_pred_test)\n",
    "\n",
    "print(f\"Training Accuracy: {train_accuracy * 100:.2f}%\")\n",
    "print(f\"Test Accuracy: {test_accuracy * 100:.2f}%\")\n"
   ]
  },
  {
   "cell_type": "markdown",
   "metadata": {},
   "source": [
    "## Introducing outliers (outlier introduction code is from help of GPT)\n"
   ]
  },
  {
   "cell_type": "markdown",
   "metadata": {},
   "source": []
  },
  {
   "cell_type": "code",
   "execution_count": 4,
   "metadata": {},
   "outputs": [
    {
     "name": "stdout",
     "output_type": "stream",
     "text": [
      "Original X_train: [[ -0.56877    1.4174    -1.4252    -1.1246  ]\n",
      " [  0.47368    3.3605    -4.5064    -4.0431  ]\n",
      " [  1.0652     8.3682    -1.4004    -1.6509  ]\n",
      " [ -4.5531   -12.5854    15.4417    -1.4983  ]\n",
      " [ -0.048008  -1.6037     8.4756     0.75558 ]]\n",
      "X_train with outliers: [[ -0.56877    1.4174    -1.4252    -1.1246  ]\n",
      " [  0.47368    3.3605    -4.5064    -4.0431  ]\n",
      " [  1.0652     8.3682    -1.4004    -1.6509  ]\n",
      " [ -4.5531   -12.5854    15.4417    -1.4983  ]\n",
      " [ -0.048008  -1.6037     8.4756     0.75558 ]]\n"
     ]
    }
   ],
   "source": [
    "\n",
    "def introduce_outliers(X_train, percentage, magnitude):\n",
    "    \n",
    "    X_train_with_outliers = np.copy(X_train)\n",
    "    num_outliers = int(percentage * X_train.shape[0])\n",
    "    outlier_indices = np.random.choice(X_train.shape[0], num_outliers, replace=False)\n",
    "    for index in outlier_indices:\n",
    "        X_train_with_outliers[index] = X_train_with_outliers[index] * magnitude\n",
    "    return X_train_with_outliers\n",
    "\n",
    "X_train_with_outliers = introduce_outliers(X_train, 0.05, 5)\n",
    "print(\"Original X_train:\", X_train[:5])\n",
    "print(\"X_train with outliers:\", X_train_with_outliers[:5])\n"
   ]
  },
  {
   "cell_type": "markdown",
   "metadata": {},
   "source": [
    "## Logistic on outlier input"
   ]
  },
  {
   "cell_type": "code",
   "execution_count": 5,
   "metadata": {},
   "outputs": [
    {
     "name": "stdout",
     "output_type": "stream",
     "text": [
      "Iteration 0: binarycrossentropy = 0.09493793251869465\n",
      "Iteration 100: binarycrossentropy = 0.09115115195519588\n",
      "Iteration 200: binarycrossentropy = 0.08782494847484479\n",
      "Iteration 300: binarycrossentropy = 0.08484521577144469\n",
      "Iteration 400: binarycrossentropy = 0.08215460726330691\n",
      "Iteration 500: binarycrossentropy = 0.07970888762204169\n",
      "Iteration 600: binarycrossentropy = 0.0774730261841858\n",
      "Iteration 700: binarycrossentropy = 0.07541881344663377\n",
      "Iteration 800: binarycrossentropy = 0.07352321749982173\n",
      "Iteration 900: binarycrossentropy = 0.07176720943391772\n",
      "Training Accuracy: 97.92%\n",
      "Test Accuracy: 97.57%\n"
     ]
    }
   ],
   "source": [
    "features = X_train.shape[1]\n",
    "W_o, b_o = initialize_parameters(features)\n",
    "iter_o = 1000\n",
    "lr_o = 0.01\n",
    "W_o, b_o, costs_o = gradient_descent(X_train_with_outliers, Y_train, W, b, lr, iter)\n",
    "\n",
    "Y_pred_train_o = predict(X_train_with_outliers, W, b)\n",
    "Y_pred_test_o = predict(X_test, W, b)\n",
    "train_accuracy_o = accuracy_score(Y_train, Y_pred_train_o)\n",
    "test_accuracy_o = accuracy_score(Y_test, Y_pred_test_o)\n",
    "\n",
    "print(f\"Training Accuracy: {train_accuracy_o * 100:.2f}%\")\n",
    "print(f\"Test Accuracy: {test_accuracy_o * 100:.2f}%\")"
   ]
  },
  {
   "cell_type": "markdown",
   "metadata": {},
   "source": [
    "## Result for above logistic regression after introducing outlier is that it is not really affected by it"
   ]
  },
  {
   "cell_type": "markdown",
   "metadata": {},
   "source": []
  },
  {
   "cell_type": "code",
   "execution_count": 6,
   "metadata": {},
   "outputs": [
    {
     "data": {
      "image/png": "[encoded data removed]",
      "text/plain": [
       "<Figure size 640x480 with 1 Axes>"
      ]
     },
     "metadata": {},
     "output_type": "display_data"
    },
    {
     "data": {
      "text/plain": [
       "array([0, 0, 0, 0, 0, 0, 0, 0, 0, 0, 0, 0, 0, 0, 0, 0, 0, 0, 0, 0, 0, 0,\n",
       "       0, 0, 0, 0, 0, 0, 0, 0, 0, 0, 0, 0, 0, 0, 0, 0, 0, 0, 0, 0, 0, 0,\n",
       "       0, 0, 0, 0, 0, 0, 0, 0, 0, 0, 0, 0, 0, 0, 0, 0, 0, 0, 0, 0, 0, 0,\n",
       "       0, 0, 0, 0, 0, 0, 0, 0, 0, 0, 0, 0, 0, 0, 0, 0, 0, 0, 0, 0, 0, 0,\n",
       "       0, 0, 0, 0, 0, 0, 0, 0, 0, 0, 0, 0, 1, 1, 1, 1, 1, 1, 1, 1, 1, 1,\n",
       "       1, 1, 1, 1, 1, 1, 1, 1, 1, 1, 1, 1, 1, 1, 1, 1, 1, 1, 1, 1, 1, 1,\n",
       "       1, 1, 1, 1, 1, 1, 1, 1, 1, 1, 1, 1, 1, 1, 1, 1, 1, 1, 1, 1, 1, 1,\n",
       "       1, 1, 1, 1, 1, 1, 1, 1, 1, 1, 1, 1, 1, 1, 1, 1, 1, 1, 1, 1, 1, 1,\n",
       "       1, 1, 1, 1, 1, 1, 1, 1, 1, 1, 1, 1, 1, 1, 1, 1, 1, 1, 1, 1, 1, 1,\n",
       "       1, 1, 2, 2, 2, 2, 2, 2, 2, 2, 2, 2, 2, 2, 2, 2, 2, 2, 2, 2, 2, 2,\n",
       "       2, 2, 2, 2, 2, 2, 2, 2, 2, 2, 2, 2, 2, 2, 2, 2, 2, 2, 2, 2, 2, 2,\n",
       "       2, 2, 2, 2, 2, 2, 2, 2, 2, 2, 2, 2, 2, 2, 2, 2, 2, 2, 2, 2, 2, 2,\n",
       "       2, 2, 2, 2, 2, 2, 2, 2, 2, 2, 2, 2, 2, 2, 2, 2, 2, 2, 2, 2, 2, 2,\n",
       "       2, 2, 2, 2, 2, 2, 2, 2, 2, 2, 2, 2, 2, 2, 3, 3, 3, 3, 3, 3, 3, 3,\n",
       "       3, 3, 3, 3, 3, 3, 3, 3, 3, 3, 3, 3, 3, 3, 3, 3, 3, 3, 3, 3, 3, 3,\n",
       "       3, 3, 3, 3, 3, 3, 3, 3, 3, 3, 3, 3, 3, 3, 3, 3, 3, 3, 3, 3, 3, 3,\n",
       "       3, 3, 3, 3, 3, 3, 3, 3, 3, 3, 3, 3, 3, 3, 3, 3, 3, 3, 3, 3, 3, 3,\n",
       "       3, 3, 3, 3, 3, 3, 3, 3, 3, 3, 3, 3, 3, 3, 3, 3, 3, 3, 3, 3, 3, 3,\n",
       "       3, 3, 3, 3])"
      ]
     },
     "execution_count": 6,
     "metadata": {},
     "output_type": "execute_result"
    }
   ],
   "source": [
    "\n",
    "nsample = 100\n",
    "means = [(2, 2), (-2, 2), (2, -2), (-2, -2)]\n",
    "cov = [[0.1, 0], [0, 0.1]]\n",
    "class_1 = np.random.multivariate_normal(means[0], cov, nsample)\n",
    "class_2 = np.random.multivariate_normal(means[1], cov, nsample)\n",
    "class_3 = np.random.multivariate_normal(means[2], cov, nsample)\n",
    "class_4 = np.random.multivariate_normal(means[3], cov, nsample)\n",
    "\n",
    "X = np.vstack((class_1, class_2, class_3, class_4))\n",
    "y = np.array([0]*nsample + [1]*nsample + [2]*nsample + [3]*nsample)\n",
    "X_train_sm, X_test_sm, y_train_sm, y_test_sm = train_test_split(X, y, test_size=0.3, random_state=42)\n",
    "plt.scatter(X[:, 0], X[:, 1])\n",
    "plt.title(\"Scatter plot of generated Gaussian clusters\")\n",
    "plt.show()\n",
    "y\n",
    "\n",
    "\n",
    "\n",
    "\n",
    "\n",
    "\n"
   ]
  },
  {
   "cell_type": "code",
   "execution_count": 7,
   "metadata": {},
   "outputs": [
    {
     "name": "stdout",
     "output_type": "stream",
     "text": [
      "Iteration 0: binarycrossentropy = 1.3862943611198904\n",
      "Iteration 100: binarycrossentropy = 0.06058096622596218\n",
      "Iteration 200: binarycrossentropy = 0.031146201170750714\n",
      "Iteration 300: binarycrossentropy = 0.02113027921380283\n",
      "Iteration 400: binarycrossentropy = 0.01605804620406919\n",
      "Iteration 500: binarycrossentropy = 0.012984539619365285\n",
      "Iteration 600: binarycrossentropy = 0.010918646739300028\n",
      "Iteration 700: binarycrossentropy = 0.00943250904408031\n",
      "Iteration 800: binarycrossentropy = 0.008310896987849946\n",
      "Iteration 900: binarycrossentropy = 0.007433604647739265\n"
     ]
    },
    {
     "name": "stderr",
     "output_type": "stream",
     "text": [
      "c:\\Users\\Nani Panyu\\AppData\\Local\\Programs\\Python\\Python311\\Lib\\site-packages\\sklearn\\preprocessing\\_encoders.py:972: FutureWarning: `sparse` was renamed to `sparse_output` in version 1.2 and will be removed in 1.4. `sparse_output` is ignored unless you leave `sparse` to its default value.\n",
      "  warnings.warn(\n"
     ]
    }
   ],
   "source": [
    "onehot_encoder = OneHotEncoder(sparse=False)\n",
    "y_train_encoded = onehot_encoder.fit_transform(y_train_sm.reshape(-1, 1))\n",
    "y_test_encoded = onehot_encoder.transform(y_test_sm.reshape(-1, 1))\n",
    "\n",
    "\n",
    "def softmax(z):\n",
    "    expz = np.exp(z - np.max(z, axis=1, keepdims=True)) \n",
    "    return expz / np.sum(expz, axis=1, keepdims=True)\n",
    "\n",
    "\n",
    "def gradient_descent_sm(X, y, learning_rate=0.01, iterations=1000):\n",
    "    m, n = X.shape  \n",
    "    k = y.shape[1]  \n",
    "    W = np.zeros((n, k))  \n",
    "    b = np.zeros((1, k))  \n",
    "    costs = []\n",
    "    \n",
    "    for i in range(iterations):\n",
    "        Z = np.dot(X, W) + b\n",
    "        A = softmax(Z)\n",
    "        cost = - (1/m) * np.sum(y * np.log(A))\n",
    "        costs.append(cost)\n",
    "        dW = (1/m) * np.dot(X.T, (A - y))\n",
    "        db = (1/m) * np.sum(A - y, axis=0, keepdims=True)\n",
    "        W -= learning_rate * dW\n",
    "        b -= learning_rate * db\n",
    "        if i % 100 == 0:\n",
    "            print(f\"Iteration {i}: binarycrossentropy = {cost}\")\n",
    "    return W, b, costs\n",
    "\n",
    "W, b, costs = gradient_descent_sm(X_train_sm, y_train_encoded, learning_rate=0.1, iterations=1000)\n",
    "\n",
    "\n",
    "\n"
   ]
  },
  {
   "cell_type": "code",
   "execution_count": 8,
   "metadata": {},
   "outputs": [
    {
     "name": "stdout",
     "output_type": "stream",
     "text": [
      "Training Accuracy: 100.00%\n",
      "Test Accuracy: 100.00%\n"
     ]
    }
   ],
   "source": [
    "\n",
    "def predict(X, W, b):\n",
    "    Z = np.dot(X, W) + b\n",
    "    A = softmax(Z)\n",
    "    return np.argmax(A, axis=1)\n",
    "y_pred_train_sm = predict(X_train_sm, W, b)\n",
    "y_pred_test_sm = predict(X_test_sm, W, b)\n",
    "\n",
    "train_accuracy_sm = np.mean(y_pred_train_sm == y_train_sm) * 100\n",
    "test_accuracy_sm = np.mean(y_pred_test_sm == y_test_sm) * 100\n",
    "\n",
    "print(f\"Training Accuracy: {train_accuracy_sm:.2f}%\")\n",
    "print(f\"Test Accuracy: {test_accuracy_sm:.2f}%\")\n"
   ]
  },
  {
   "cell_type": "markdown",
   "metadata": {},
   "source": []
  }
 ],
 "metadata": {
  "kernelspec": {
   "display_name": "Python 3",
   "language": "python",
   "name": "python3"
  },
  "language_info": {
   "codemirror_mode": {
    "name": "ipython",
    "version": 3
   },
   "file_extension": ".py",
   "mimetype": "text/x-python",
   "name": "python",
   "nbconvert_exporter": "python",
   "pygments_lexer": "ipython3",
   "version": "3.11.0"
  }
 },
 "nbformat": 4,
 "nbformat_minor": 2
}
